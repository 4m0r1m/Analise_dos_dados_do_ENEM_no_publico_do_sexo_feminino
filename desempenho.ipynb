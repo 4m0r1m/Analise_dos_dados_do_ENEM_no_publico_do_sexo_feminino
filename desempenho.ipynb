{
 "cells": [
  {
   "cell_type": "code",
   "execution_count": null,
   "metadata": {},
   "outputs": [],
   "source": [
    "import numpy as np\n",
    "import pandas as pd\n",
    "import matplotlib.pyplot as plt\n",
    "import seaborn as sns"
   ]
  },
  {
   "cell_type": "markdown",
   "metadata": {},
   "source": [
    "## Abrindo os arquivos\n",
    "- subistitua o caminho para rodar"
   ]
  },
  {
   "cell_type": "code",
   "execution_count": null,
   "metadata": {},
   "outputs": [],
   "source": [
    "df_2019 = pd.read_csv(r'C:\\Users\\marco\\microdados\\MICRODADOS_ENEM_2019.csv',  sep=';', encoding='ISO-8859-1')\n",
    "df_2020 = pd.read_csv(r'C:\\Users\\marco\\microdados\\MICRODADOS_ENEM_2020.csv',  sep=';', encoding='ISO-8859-1')"
   ]
  },
  {
   "cell_type": "markdown",
   "metadata": {},
   "source": [
    "### Funcao para dividir as faixas de renda em 3 categorias\n",
    "- Alta Renda\n",
    "- Media Renda\n",
    "- Baixa Renda"
   ]
  },
  {
   "cell_type": "code",
   "execution_count": null,
   "metadata": {},
   "outputs": [],
   "source": [
    "def categorizar_renda_per_capita(df):\n",
    "    faixa_renda = {\n",
    "        \"A\": 0,       \n",
    "        \"B\": 1045.00,\n",
    "        \"C\": 1567.50,\n",
    "        \"D\": 2090.00,\n",
    "        \"E\": 2612.50,\n",
    "        \"F\": 3135.00,\n",
    "        \"G\": 4180.00,\n",
    "        \"H\": 5225.00,\n",
    "        \"I\": 6270.00,\n",
    "        \"J\": 7315.00,\n",
    "        \"K\": 8360.00,\n",
    "        \"L\": 9405.00,\n",
    "        \"M\": 10450.00,\n",
    "        \"N\": 12540.00,\n",
    "        \"O\": 15675.00,\n",
    "        \"P\": 20900.00,\n",
    "        \"Q\": 20900.01  \n",
    "    }\n",
    "\n",
    "    df['Renda_Familiar'] = df['Q006'].map(faixa_renda)\n",
    "\n",
    "    # Calcular a renda per capita \n",
    "    df['Renda_Percapita'] = df['Renda_Familiar'] / df['Q005']\n",
    "\n",
    "    # Categorizar em tres grupos: Baixa, Média e Alta\n",
    "    df['Faixa_Renda_Percapita'] = pd.cut(df['Renda_Percapita'],\n",
    "                                         bins=[-1, 1045, 5225, float('inf')],\n",
    "                                         labels=['Baixa Renda', 'Média Renda', 'Alta Renda'])\n",
    "    return df"
   ]
  },
  {
   "cell_type": "markdown",
   "metadata": {},
   "source": [
    "### Dicionario "
   ]
  },
  {
   "cell_type": "code",
   "execution_count": null,
   "metadata": {},
   "outputs": [],
   "source": [
    "cor_raca_mapping = {\n",
    "    0: 'Não declarado',\n",
    "    1: 'Branca',\n",
    "    2: 'Preta',\n",
    "    3: 'Parda',\n",
    "    4: 'Amarela',\n",
    "    5: 'Indígena'\n",
    "}\n",
    "\n",
    "acesso_internet_mapping = {\n",
    "    'A': 'Não',\n",
    "    'B': 'Sim'\n",
    "}"
   ]
  },
  {
   "cell_type": "markdown",
   "metadata": {},
   "source": [
    "### Funcao para calcular a media das notas dos alunos por categoria\n",
    "- alunos presentes nos 2 dias\n",
    "- calculo das medias de todas as materias nos anos de 2019 e 2020\n",
    "- categorias abordadas: Cor, Faixa de Renda e Acesso a Internet\n",
    "- materias: NU_NOTA_CN', 'NU_NOTA_CH', 'NU_NOTA_LC', 'NU_NOTA_MT', 'NU_NOTA_REDACAO'\n"
   ]
  },
  {
   "cell_type": "code",
   "execution_count": null,
   "metadata": {},
   "outputs": [],
   "source": [
    "def calcular_media_notas(df, ano):\n",
    "    df = categorizar_renda_per_capita(df)\n",
    "    \n",
    "    presentes = df[(df['TP_PRESENCA_CH'] == 1) & (df['TP_PRESENCA_MT'] == 1) & (df['TP_SEXO'] == 'F')]\n",
    "\n",
    "    presentes['TP_COR_RACA'] = presentes['TP_COR_RACA'].map(cor_raca_mapping)\n",
    "    presentes['Q025'] = presentes['Q025'].map(acesso_internet_mapping)\n",
    "\n",
    "    presentes.rename(columns={'TP_COR_RACA': 'Cor', 'Q025': 'Acesso à Internet'}, inplace=True)\n",
    "    \n",
    "    media_notas = presentes.groupby(['Cor', 'Faixa_Renda_Percapita', 'Acesso à Internet'])[['NU_NOTA_CN', 'NU_NOTA_CH', 'NU_NOTA_LC', 'NU_NOTA_MT', 'NU_NOTA_REDACAO']].mean().round(2)\n",
    "    \n",
    "    media_notas['Ano'] = ano\n",
    "    return media_notas.reset_index()\n",
    "\n",
    "def comparar_media_notas(df_2019, df_2020):\n",
    "    media_2019 = calcular_media_notas(df_2019, 2019)\n",
    "    media_2020 = calcular_media_notas(df_2020, 2020)\n",
    "\n",
    "    comparacao_media = pd.concat([media_2019, media_2020], ignore_index=True)\n",
    "    return comparacao_media\n",
    "\n",
    "comparacao_media_notas = comparar_media_notas(df_2019, df_2020)\n",
    "print(comparacao_media_notas)"
   ]
  },
  {
   "cell_type": "markdown",
   "metadata": {},
   "source": [
    "### Visualizacao grafica"
   ]
  },
  {
   "cell_type": "code",
   "execution_count": null,
   "metadata": {},
   "outputs": [],
   "source": [
    "#graficico comparacao raca/cor em todas as materias\n",
    "def plot_diferencas_desempenho(df):\n",
    "    plt.figure(figsize=(18, 12))\n",
    "\n",
    "    plt.subplot(3, 2, 1)\n",
    "    sns.barplot(data=df, x='Cor', y='NU_NOTA_CN', hue='Ano', palette='viridis')\n",
    "    plt.title('Média das Notas em Ciências da Natureza (2019 vs 2020)')\n",
    "    plt.xlabel('Raça')\n",
    "    plt.ylabel('Nota Média de Ciências da Natureza')\n",
    "    plt.legend(title='Ano')\n",
    "\n",
    "    plt.subplot(3, 2, 2)\n",
    "    sns.barplot(data=df, x='Cor', y='NU_NOTA_CH', hue='Ano', palette='viridis')\n",
    "    plt.title('Média das Notas em Ciências Humanas (2019 vs 2020)')\n",
    "    plt.xlabel('Raça')\n",
    "    plt.ylabel('Nota Média de Ciências Humanas')\n",
    "    plt.legend(title='Ano')\n",
    "\n",
    "    plt.subplot(3, 2, 3)\n",
    "    sns.barplot(data=df, x='Cor', y='NU_NOTA_LC', hue='Ano', palette='viridis')\n",
    "    plt.title('Média das Notas em Linguagens e Códigos (2019 vs 2020)')\n",
    "    plt.xlabel('Raça')\n",
    "    plt.ylabel('Nota Média de Linguagens e Códigos')\n",
    "    plt.legend(title='Ano')\n",
    "\n",
    "    plt.subplot(3, 2, 4)\n",
    "    sns.barplot(data=df, x='Cor', y='NU_NOTA_MT', hue='Ano', palette='viridis')\n",
    "    plt.title('Média das Notas em Matemática (2019 vs 2020)')\n",
    "    plt.xlabel('Raça')\n",
    "    plt.ylabel('Nota Média de Matemática')\n",
    "    plt.legend(title='Ano')\n",
    "\n",
    "    plt.subplot(3, 2, 5)\n",
    "    sns.barplot(data=df, x='Cor', y='NU_NOTA_REDACAO', hue='Ano', palette='viridis')\n",
    "    plt.title('Média das Notas de Redação (2019 vs 2020)')\n",
    "    plt.xlabel('Raça')\n",
    "    plt.ylabel('Nota Média de Redação')\n",
    "    plt.legend(title='Ano')\n",
    "\n",
    "    plt.tight_layout()\n",
    "    plt.show()\n",
    "\n",
    "plot_diferencas_desempenho(comparacao_media_notas)"
   ]
  },
  {
   "cell_type": "code",
   "execution_count": null,
   "metadata": {},
   "outputs": [],
   "source": [
    "#grafico omparacao raca/cor (Matematica/Redacao)\n",
    "def plot_comparacao_media_notas(df):\n",
    "    plt.figure(figsize=(18, 12))\n",
    "\n",
    "    plt.subplot(2, 1, 1)\n",
    "    sns.barplot(data=df, x='Cor', y='NU_NOTA_REDACAO', hue='Ano', palette='viridis')\n",
    "    plt.title('Comparação da Média das Notas de Redação por Cor (2019 vs 2020)')\n",
    "    plt.xlabel('Cor')\n",
    "    plt.ylabel('Nota Média de Redação')\n",
    "    plt.legend(title='Ano')\n",
    "\n",
    "    plt.subplot(2, 1, 2)\n",
    "    sns.barplot(data=df, x='Cor', y='NU_NOTA_MT', hue='Ano', palette='viridis')\n",
    "    plt.title('Comparação da Média das Notas de Matemática por Cor (2019 vs 2020)')\n",
    "    plt.xlabel('Cor')\n",
    "    plt.ylabel('Nota Média de Matemática')\n",
    "    plt.legend(title='Ano')\n",
    "\n",
    "    plt.tight_layout()\n",
    "    plt.show()\n",
    "\n",
    "plot_comparacao_media_notas(comparacao_media_notas)"
   ]
  },
  {
   "cell_type": "code",
   "execution_count": null,
   "metadata": {},
   "outputs": [],
   "source": [
    "#grafico comparacao por renda (Matematica/Redacao)\n",
    "def plot_comparacao_media_renda(df):\n",
    "    plt.figure(figsize=(18, 12))\n",
    "\n",
    "    plt.subplot(2, 1, 1)\n",
    "    sns.barplot(data=df, x='Faixa_Renda_Percapita', y='NU_NOTA_REDACAO', hue='Ano', palette='viridis')\n",
    "    plt.title('Comparação da Média das Notas de Redação por Faixa de Renda (2019 vs 2020)')\n",
    "    plt.xlabel('Faixa de Renda Per Capita')\n",
    "    plt.ylabel('Nota Média de Redação')\n",
    "    plt.legend(title='Ano')\n",
    "\n",
    "    plt.subplot(2, 1, 2)\n",
    "    sns.barplot(data=df, x='Faixa_Renda_Percapita', y='NU_NOTA_MT', hue='Ano', palette='viridis')\n",
    "    plt.title('Comparação da Média das Notas de Matemática por Faixa de Renda (2019 vs 2020)')\n",
    "    plt.xlabel('Faixa de Renda Per Capita')\n",
    "    plt.ylabel('Nota Média de Matemática')\n",
    "    plt.legend(title='Ano')\n",
    "\n",
    "    plt.tight_layout()\n",
    "    plt.show()\n",
    "\n",
    "plot_comparacao_media_renda(comparacao_media_notas)"
   ]
  },
  {
   "cell_type": "code",
   "execution_count": null,
   "metadata": {},
   "outputs": [],
   "source": [
    "#grafico comparacao acesso a internet (Matematica/Redacao)\n",
    "def plot_comparacao_media_internet(df):\n",
    "    plt.figure(figsize=(18, 12))\n",
    "\n",
    "    plt.subplot(2, 1, 1)\n",
    "    sns.barplot(data=df, x='Acesso à Internet', y='NU_NOTA_REDACAO', hue='Ano', palette='viridis')\n",
    "    plt.title('Comparação da Média das Notas de Redação por Acesso à Internet (2019 vs 2020)')\n",
    "    plt.xlabel('Acesso à Internet')\n",
    "    plt.ylabel('Nota Média de Redação')\n",
    "    plt.legend(title='Ano')\n",
    "\n",
    "    plt.subplot(2, 1, 2)\n",
    "    sns.barplot(data=df, x='Acesso à Internet', y='NU_NOTA_MT', hue='Ano', palette='viridis')\n",
    "    plt.title('Comparação da Média das Notas de Matemática por Acesso à Internet (2019 vs 2020)')\n",
    "    plt.xlabel('Acesso à Internet')\n",
    "    plt.ylabel('Nota Média de Matemática')\n",
    "    plt.legend(title='Ano')\n",
    "\n",
    "    plt.tight_layout()\n",
    "    plt.show()\n",
    "\n",
    "plot_comparacao_media_internet(comparacao_media_notas)"
   ]
  },
  {
   "cell_type": "code",
   "execution_count": null,
   "metadata": {},
   "outputs": [],
   "source": [
    "#grafico cor/raca e renda (Matematica/Redacao)\n",
    "def plot_comparacao_media_raca_e_renda(df):\n",
    "    plt.figure(figsize=(18, 12))\n",
    "\n",
    "    plt.subplot(2, 1, 1)\n",
    "    sns.barplot(data=df, x='Cor', y='NU_NOTA_REDACAO', hue='Faixa_Renda_Percapita', palette='viridis')\n",
    "    plt.title('Comparação da Média das Notas de Redação por Raça e Faixa de Renda (2019 vs 2020)')\n",
    "    plt.xlabel('Raça')\n",
    "    plt.ylabel('Nota Média de Redação')\n",
    "    plt.legend(title='Faixa de Renda')\n",
    "\n",
    "    plt.subplot(2, 1, 2)\n",
    "    sns.barplot(data=df, x='Cor', y='NU_NOTA_MT', hue='Faixa_Renda_Percapita', palette='viridis')\n",
    "    plt.title('Comparação da Média das Notas de Matemática por Raça e Faixa de Renda (2019 vs 2020)')\n",
    "    plt.xlabel('Raça')\n",
    "    plt.ylabel('Nota Média de Matemática')\n",
    "    plt.legend(title='Faixa de Renda')\n",
    "\n",
    "    plt.tight_layout()\n",
    "    plt.show()\n",
    "\n",
    "plot_comparacao_media_raca_e_renda(comparacao_media_notas)"
   ]
  }
 ],
 "metadata": {
  "kernelspec": {
   "display_name": "Python 3",
   "language": "python",
   "name": "python3"
  },
  "language_info": {
   "name": "python",
   "version": "3.12.5"
  }
 },
 "nbformat": 4,
 "nbformat_minor": 2
}
